{
 "cells": [
  {
   "cell_type": "code",
   "execution_count": 3,
   "metadata": {},
   "outputs": [],
   "source": [
    "import os\n",
    "import re\n",
    "import cv2\n",
    "import sys\n",
    "import glob\n",
    "import json\n",
    "import math\n",
    "import pickle\n",
    "import random\n",
    "import numpy as np\n",
    "from PIL import Image\n",
    "from tqdm import tqdm\n",
    "from pathlib import Path \n",
    "import matplotlib.pyplot as plt\n",
    "from collections import defaultdict\n",
    "from multiprocessing import Pool"
   ]
  },
  {
   "cell_type": "code",
   "execution_count": 7,
   "metadata": {},
   "outputs": [
    {
     "name": "stderr",
     "output_type": "stream",
     "text": [
      " 68%|██████▊   | 357/524 [00:00<00:00, 3565.37it/s]"
     ]
    },
    {
     "name": "stderr",
     "output_type": "stream",
     "text": [
      "100%|██████████| 524/524 [00:00<00:00, 3555.71it/s]\n"
     ]
    }
   ],
   "source": [
    "def process(img_path):\n",
    "    img = cv2.imread(str(img_path))\n",
    "    # img path = a/b/c/d.jpg, convert to a/b/c_d.jpg\n",
    "    cv2.imwrite(str(_saved_dir / '_'.join(img_path.parts[-2:])), img)\n",
    "    \n",
    "_root_img_dir = Path('/home/ptthang/d2.cattle/Ground_truth_aligned/aligned_images')\n",
    "_all_img_paths = list(_root_img_dir.glob('**/*.jpg'))\n",
    "# i will train all three of this, including the test set, but aligned, then infer on the original test set\n",
    "_saved_dir = Path('/home/ptthang/d2.cattle/Ground_truth_aligned/train_aligned_imgs')\n",
    "_saved_dir.mkdir(exist_ok=True)\n",
    "with Pool(8) as p:\n",
    "    for _ in tqdm(p.imap_unordered(process, _all_img_paths), total=len(_all_img_paths)):\n",
    "        pass\n",
    "\n"
   ]
  },
  {
   "cell_type": "code",
   "execution_count": 17,
   "metadata": {},
   "outputs": [
    {
     "name": "stderr",
     "output_type": "stream",
     "text": [
      "100%|██████████| 87/87 [00:00<00:00, 19294.86it/s]\n",
      "100%|██████████| 233/233 [00:00<00:00, 36292.07it/s]\n",
      "100%|██████████| 204/204 [00:00<00:00, 36943.05it/s]\n"
     ]
    }
   ],
   "source": [
    "import itertools\n",
    "_root_json_dir = Path('/home/ptthang/d2.cattle/Ground_truth_aligned/')\n",
    "_all_json_files = list(_root_json_dir.glob('*.json'))\n",
    "input_jsons = {}\n",
    "for json_file in _all_json_files:\n",
    "    with open(json_file, 'r') as f:\n",
    "        input_jsons[json_file.stem] = json.load(f)\n",
    "\n",
    "# [[], [], []] to []\n",
    "output_data = {\n",
    "    \"images\": [],\n",
    "    \"annotations\": []\n",
    "}\n",
    "id = 1\n",
    "for prefix, input_json in input_jsons.items():\n",
    "    prefix = prefix.replace('_aligned', '')\n",
    "    for item in tqdm(input_json):\n",
    "        for image_id, image_data in item.items():\n",
    "            image = Image.open(f'{_saved_dir}/{prefix}_{image_id}.jpg')\n",
    "            image_width, image_height = image.size\n",
    "            image = {\n",
    "                \"license\": None,\n",
    "                \"file_name\": f\"{prefix}_{image_id}.jpg\",\n",
    "                \"coco_url\": None,\n",
    "                \"height\": image_height,\n",
    "                \"width\": image_width,\n",
    "                \"id\": id\n",
    "            }\n",
    "            output_data[\"images\"].append(image)\n",
    "\n",
    "            annotation = {\n",
    "                \"segmentation\": None,\n",
    "                \"num_keypoints\": len(image_data[\"points\"]) // 3,\n",
    "                \"area\": (image_data[\"box\"][2]) * (image_data[\"box\"][3]),\n",
    "                \"iscrowd\": 0,\n",
    "                \"keypoints\": image_data[\"points\"],\n",
    "                \"image_id\": id,\n",
    "                \"bbox\": image_data[\"box\"],\n",
    "                \"category_id\": 1,\n",
    "                \"id\": id,\n",
    "                \"inmodal_bbox\": None,\n",
    "                \"inmodal_seg\": None\n",
    "            }\n",
    "            output_data[\"annotations\"].append(annotation)\n",
    "            id += 1\n",
    "\n",
    "end_data = {\n",
    "    \"categories\": [\n",
    "        {\n",
    "            \"supercategory\": \"cow\",\n",
    "            \"id\": 1,\n",
    "            \"name\": \"cattle\",\n",
    "            \"keypoints\": [\n",
    "                \"p1\", \"p2\", \"p3\", \"p4\", \"p5\", \"p6\", \"p7\", \"p8\", \"p9\", \"p10\", \"p11\", \"p12\", \"p13\"\n",
    "            ],\n",
    "            \"skeleton\": [\n",
    "                [1, 2], [1, 3], [2, 4], [3, 5], [4, 6], [5, 7], [6, 8], [7, 9], [8, 10], [9, 11], [10, 12], [11, 13], [12, 13]\n",
    "            ]\n",
    "        }\n",
    "    ]\n",
    "}\n",
    "output_data.update(end_data)\n",
    "\n",
    "output_json = json.dumps(output_data, indent=4)\n",
    "\n",
    "with open(_saved_dir/'../aligned_train.json', 'w') as outfile:\n",
    "    json.dump(output_data, outfile, indent=4)"
   ]
  },
  {
   "cell_type": "code",
   "execution_count": 18,
   "metadata": {},
   "outputs": [],
   "source": [
    "!ln -sf /home/ptthang/d2.cattle/Ground_truth_aligned/train_aligned_imgs /home/ptthang/d2.cattle/datasets/keypoints/coco_format/train_imgs\n",
    "!ln -sf /home/ptthang/d2.cattle/Ground_truth_aligned/aligned_train.json /home/ptthang/d2.cattle/datasets/keypoints/coco_format/annotations/train.json"
   ]
  },
  {
   "cell_type": "code",
   "execution_count": null,
   "metadata": {},
   "outputs": [],
   "source": []
  }
 ],
 "metadata": {
  "kernelspec": {
   "display_name": "Python 3",
   "language": "python",
   "name": "python3"
  },
  "language_info": {
   "codemirror_mode": {
    "name": "ipython",
    "version": 3
   },
   "file_extension": ".py",
   "mimetype": "text/x-python",
   "name": "python",
   "nbconvert_exporter": "python",
   "pygments_lexer": "ipython3",
   "version": "3.8.17"
  },
  "orig_nbformat": 4
 },
 "nbformat": 4,
 "nbformat_minor": 2
}
